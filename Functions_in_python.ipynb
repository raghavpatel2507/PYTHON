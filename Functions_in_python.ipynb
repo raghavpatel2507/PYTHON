{
  "nbformat": 4,
  "nbformat_minor": 0,
  "metadata": {
    "colab": {
      "provenance": []
    },
    "kernelspec": {
      "name": "python3",
      "display_name": "Python 3"
    },
    "language_info": {
      "name": "python"
    }
  },
  "cells": [
    {
      "cell_type": "code",
      "execution_count": 1,
      "metadata": {
        "id": "qDsbdByhnAZ7"
      },
      "outputs": [],
      "source": [
        "## Functions-Block of code that perform a spacific task or reusability of the code\n",
        "## keyword->def f1():"
      ]
    },
    {
      "cell_type": "code",
      "source": [
        "def demo():\n",
        "  return 'hello! raghav'\n",
        "\n",
        "demo()  # functions call"
      ],
      "metadata": {
        "colab": {
          "base_uri": "https://localhost:8080/",
          "height": 36
        },
        "id": "AeKCJFe_onVl",
        "outputId": "adc4848f-2f8b-4356-ea0f-38cc89544c33"
      },
      "execution_count": 2,
      "outputs": [
        {
          "output_type": "execute_result",
          "data": {
            "text/plain": [
              "'hello! raghav'"
            ],
            "application/vnd.google.colaboratory.intrinsic+json": {
              "type": "string"
            }
          },
          "metadata": {},
          "execution_count": 2
        }
      ]
    },
    {
      "cell_type": "code",
      "source": [
        "## function defination\n",
        "def reverse(list1):\n",
        "  low=0\n",
        "  high=len(list1)-1\n",
        "  while(low<high):\n",
        "    #1.swap the value\n",
        "    list1[low],list1[high]=list1[high],list1[low]\n",
        "    low+=1\n",
        "    high-=1\n",
        "  return list1\n",
        "\n",
        "\n",
        "#driver code\n",
        "list1=[2,4,6,12,18]\n",
        "print(reverse(list1))"
      ],
      "metadata": {
        "colab": {
          "base_uri": "https://localhost:8080/"
        },
        "id": "xFAL3pSWpVnd",
        "outputId": "6e35cac5-1227-4bce-e6df-836af046893a"
      },
      "execution_count": 3,
      "outputs": [
        {
          "output_type": "stream",
          "name": "stdout",
          "text": [
            "[18, 12, 6, 4, 2]\n"
          ]
        }
      ]
    },
    {
      "cell_type": "code",
      "source": [
        "## sum of the even number in given list\n",
        "#function defination\n",
        "def sum_of_even(list2):\n",
        "  sum=0\n",
        "  for i in list2:\n",
        "    if(i%2==0):\n",
        "      sum=sum+i\n",
        "\n",
        "  return sum\n",
        "\n",
        "## driver code\n",
        "list2=[1,2,3,4,5,6]\n",
        "## function call\n",
        "print(sum_of_even(list2))"
      ],
      "metadata": {
        "colab": {
          "base_uri": "https://localhost:8080/"
        },
        "id": "i1RYQiDBq5_-",
        "outputId": "ee5898dc-972a-4d08-a876-798d3cef45a3"
      },
      "execution_count": 5,
      "outputs": [
        {
          "output_type": "stream",
          "name": "stdout",
          "text": [
            "12\n"
          ]
        }
      ]
    },
    {
      "cell_type": "code",
      "source": [
        "## fibonacci number\n",
        "def fibonacci(n):\n",
        "  num1=0\n",
        "  num2=1\n",
        "  next_num=0\n",
        "  count=1\n",
        "  while(count<=n):\n",
        "    #print(next_num)\n",
        "    count+=1\n",
        "    num1,num2=num2,next_num\n",
        "    next_num=num1+num2\n",
        "  return next_num\n",
        "\n",
        "## driver code\n",
        "n=10\n",
        "fibonacci(n)"
      ],
      "metadata": {
        "colab": {
          "base_uri": "https://localhost:8080/"
        },
        "id": "26m7A5oVrvxP",
        "outputId": "4386911d-1c60-4e91-8bac-a676775ac678"
      },
      "execution_count": 14,
      "outputs": [
        {
          "output_type": "execute_result",
          "data": {
            "text/plain": [
              "55"
            ]
          },
          "metadata": {},
          "execution_count": 14
        }
      ]
    },
    {
      "cell_type": "code",
      "source": [
        "## fibonacci series\n",
        "def fibonacci(n):\n",
        "  num1=0\n",
        "  num2=1\n",
        "  next_num=0\n",
        "  count=1\n",
        "  while(count<=n):\n",
        "    print(next_num)\n",
        "    count+=1\n",
        "    num1,num2=num2,next_num\n",
        "    next_num=num1+num2\n",
        "  #return next_num\n",
        "\n",
        "## driver code\n",
        "n=10\n",
        "fibonacci(n)"
      ],
      "metadata": {
        "colab": {
          "base_uri": "https://localhost:8080/"
        },
        "id": "n5OMm5x1uYHg",
        "outputId": "c6e26b6c-f452-4f78-afbc-e28977c276d4"
      },
      "execution_count": 15,
      "outputs": [
        {
          "output_type": "stream",
          "name": "stdout",
          "text": [
            "0\n",
            "1\n",
            "1\n",
            "2\n",
            "3\n",
            "5\n",
            "8\n",
            "13\n",
            "21\n",
            "34\n"
          ]
        }
      ]
    },
    {
      "cell_type": "code",
      "source": [],
      "metadata": {
        "id": "MBxmePx9vSEW"
      },
      "execution_count": null,
      "outputs": []
    }
  ]
}