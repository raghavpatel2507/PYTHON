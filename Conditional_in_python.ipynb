{
  "nbformat": 4,
  "nbformat_minor": 0,
  "metadata": {
    "colab": {
      "provenance": []
    },
    "kernelspec": {
      "name": "python3",
      "display_name": "Python 3"
    },
    "language_info": {
      "name": "python"
    }
  },
  "cells": [
    {
      "cell_type": "code",
      "execution_count": 2,
      "metadata": {
        "colab": {
          "base_uri": "https://localhost:8080/"
        },
        "id": "XqgwEMPFN1gJ",
        "outputId": "908bbafc-7168-4c91-8a03-cd07eb34dcaf"
      },
      "outputs": [
        {
          "output_type": "stream",
          "name": "stdout",
          "text": [
            "enter a number5\n",
            "raghav\n"
          ]
        }
      ],
      "source": [
        "i=int(input('enter a number'))\n",
        "if(i==5):\n",
        "  print('raghav')\n",
        "else:\n",
        "  print('hello')"
      ]
    },
    {
      "cell_type": "code",
      "source": [
        "i=int(input('enter a number'))\n",
        "if(i==5):\n",
        "  print('raghav')\n",
        "else:\n",
        "  print('hello')"
      ],
      "metadata": {
        "colab": {
          "base_uri": "https://localhost:8080/"
        },
        "id": "MeVq5SHEPdoc",
        "outputId": "83f5a41d-9dca-41e7-a5dc-e96387aa53a2"
      },
      "execution_count": 3,
      "outputs": [
        {
          "output_type": "stream",
          "name": "stdout",
          "text": [
            "enter a number7\n",
            "hello\n"
          ]
        }
      ]
    },
    {
      "cell_type": "code",
      "source": [
        "## APPROACH :1 -TIME COMPLEXITY LESS\n",
        "marks=int(input(\"enter a marks\"))\n",
        "if(marks>=90):\n",
        "  print(\"congrtulation!!!\")\n",
        "elif(marks<90 and marks>=80):\n",
        "  print('you are a pass')\n",
        "elif(marks<80 and marks>=60):\n",
        "  print(\"avarge marks\")\n",
        "elif(marks<60 and marks>=35):\n",
        "  print('pass')\n",
        "else:\n",
        "  print('fail in the exam')\n"
      ],
      "metadata": {
        "colab": {
          "base_uri": "https://localhost:8080/"
        },
        "id": "5yz_4G6ePtQC",
        "outputId": "9c2ba30b-d5ee-4c0a-ca3b-612545cbd561"
      },
      "execution_count": 18,
      "outputs": [
        {
          "output_type": "stream",
          "name": "stdout",
          "text": [
            "enter a marks45\n",
            "pass\n"
          ]
        }
      ]
    },
    {
      "cell_type": "code",
      "source": [
        "## APPROACH :2 TIME COMPLEXITY IS MORE\n",
        "marks=int(input(\"enter a marks\"))\n",
        "if(marks>=90):\n",
        "  print(\"congrtulation!!!\")\n",
        "if(marks<90 and marks>=80):\n",
        "  print('you are a pass')\n",
        "if(marks<80 and marks>=60):\n",
        "  print(\"avarge marks\")\n",
        "if(marks<60 and marks>=35):\n",
        "  print('pass')\n",
        "else:\n",
        "  print('fail in the exam')"
      ],
      "metadata": {
        "id": "n0EUTovGV9LO"
      },
      "execution_count": null,
      "outputs": []
    },
    {
      "cell_type": "code",
      "source": [
        "percentage=float(input(\"Enter a percentage\"))\n",
        "shortlist_percentage=90.0\n",
        "if(percentage>=shortlist_percentage):\n",
        "  print(\"Congrtulation!!!you are selected to an IIT college\")\n",
        "else:\n",
        "  print(\"sorry,you are not selected\")"
      ],
      "metadata": {
        "colab": {
          "base_uri": "https://localhost:8080/"
        },
        "id": "cDjqZICHQpVz",
        "outputId": "ac4bdf4a-7171-4a1d-c6c6-07a4d8afe005"
      },
      "execution_count": 19,
      "outputs": [
        {
          "output_type": "stream",
          "name": "stdout",
          "text": [
            "Enter a percentage78\n",
            "sorry,you are not selected\n"
          ]
        }
      ]
    },
    {
      "cell_type": "code",
      "source": [
        "percentage=float(input(\"Enter a percentage\"))\n",
        "shortlist_percentage=90.0\n",
        "if(percentage>=shortlist_percentage):\n",
        "  print(\"Congrtulation!!!you are selected to an IIT college\")\n",
        "else:\n",
        "  print(\"sorry,you are not selected\")"
      ],
      "metadata": {
        "colab": {
          "base_uri": "https://localhost:8080/"
        },
        "id": "cR6o7b7xRCRG",
        "outputId": "fd54a559-503f-4321-9ec8-534a7c4c1557"
      },
      "execution_count": 20,
      "outputs": [
        {
          "output_type": "stream",
          "name": "stdout",
          "text": [
            "Enter a percentage89\n",
            "sorry,you are not selected\n"
          ]
        }
      ]
    },
    {
      "cell_type": "code",
      "source": [
        "## APPROCH :1\n",
        "percentage=float(input(\"Enter a percentage\"))\n",
        "shortlist_percentage=90.0\n",
        "if(percentage>=shortlist_percentage):\n",
        "  print(\"Congrtulation!!!you are selected to an IIT college\")\n",
        "elif(percentage<shortlist_percentage and percentage >87):\n",
        "  print(\"You are waiting list\")\n",
        "else:\n",
        "  print(\"sorry,you are not selected\")\n",
        "#TIME COMPLEXITY LESS"
      ],
      "metadata": {
        "colab": {
          "base_uri": "https://localhost:8080/"
        },
        "id": "nDP0pfzVSJG7",
        "outputId": "8bb6bf79-0ae6-4ba5-aa78-8c5f7bed32af"
      },
      "execution_count": 16,
      "outputs": [
        {
          "output_type": "stream",
          "name": "stdout",
          "text": [
            "Enter a percentage88\n",
            "You are waiting list\n"
          ]
        }
      ]
    },
    {
      "cell_type": "code",
      "source": [
        "#APPROACH :2\n",
        "percentage=float(input(\"Enter a percentage\"))\n",
        "shortlist_percentage=90.0\n",
        "if(percentage>=shortlist_percentage):\n",
        "  print(\"Congrtulation!!!you are selected to an IIT college\")\n",
        "if(percentage<shortlist_percentage and percentage >87): ##code is same but i am use elif -- if\n",
        "  print(\"You are waiting list\")\n",
        "else:\n",
        "  print(\"sorry,you are not selected\")\n",
        "## TIME COMPLEXITY MORE"
      ],
      "metadata": {
        "colab": {
          "base_uri": "https://localhost:8080/"
        },
        "id": "Dg3-43kfTN47",
        "outputId": "5996cbb2-7061-4fef-effe-c076fe9d1bb6"
      },
      "execution_count": 21,
      "outputs": [
        {
          "output_type": "stream",
          "name": "stdout",
          "text": [
            "Enter a percentage89\n",
            "You are waiting list\n"
          ]
        }
      ]
    },
    {
      "cell_type": "code",
      "source": [
        "## movie tickit pricing\n",
        "age=int(input('enter the age '))\n",
        "day=input('Is it a weekday or weekend? ').lower()\n",
        "if age <5:\n",
        "  price=0\n",
        "elif age <=12:\n",
        "  price=100\n",
        "elif age >=65:\n",
        "  price=80\n",
        "else:\n",
        "  price=200\n",
        "\n",
        "## apply surplus charge for the weekend\n",
        "if day == \"weekend\":\n",
        "  price+=200\n",
        "\n",
        "print(\"Movie tickit price\",price,'INR')"
      ],
      "metadata": {
        "colab": {
          "base_uri": "https://localhost:8080/"
        },
        "id": "TOfnW1lMULDC",
        "outputId": "f6920a7c-7e74-481c-9a80-c7e08c458f13"
      },
      "execution_count": 24,
      "outputs": [
        {
          "output_type": "stream",
          "name": "stdout",
          "text": [
            "enter the age 87\n",
            "Is it a weekday or weekend? weekday\n",
            "Movie tickit price 80 INR\n"
          ]
        }
      ]
    },
    {
      "cell_type": "code",
      "source": [
        "## string is pelidrome or not\n",
        "string=input(\"Enter a string \")\n",
        "if (string == string[::-1]):\n",
        "  print('True')\n",
        "else:\n",
        "  print(\"False\")\n",
        ""
      ],
      "metadata": {
        "colab": {
          "base_uri": "https://localhost:8080/"
        },
        "id": "ixZcVwdIXR9w",
        "outputId": "8d680913-424a-44fe-d45f-4c0a79dbed37"
      },
      "execution_count": 28,
      "outputs": [
        {
          "output_type": "stream",
          "name": "stdout",
          "text": [
            "Enter a string raghav\n",
            "False\n"
          ]
        }
      ]
    },
    {
      "cell_type": "code",
      "source": [
        "## string is pelidrome or not\n",
        "string=input(\"Enter a string \")\n",
        "if (string == string[::-1]):\n",
        "  print('True')\n",
        "else:\n",
        "  print(\"False\")\n",
        ""
      ],
      "metadata": {
        "colab": {
          "base_uri": "https://localhost:8080/"
        },
        "id": "0ZBePWV2ZEnW",
        "outputId": "1f333de6-a663-4f62-cc3e-01703e972829"
      },
      "execution_count": 29,
      "outputs": [
        {
          "output_type": "stream",
          "name": "stdout",
          "text": [
            "Enter a string mam\n",
            "True\n"
          ]
        }
      ]
    },
    {
      "cell_type": "code",
      "source": [
        "## check the vowel or consonant\n",
        "char=input(\"enter a characte \")\n",
        "if char=='a' or char=='e' or char=='i' or char=='o'or char=='u':\n",
        "  print('This charcter is vowel')\n",
        "else:\n",
        "  print('This character is Consonant')\n"
      ],
      "metadata": {
        "colab": {
          "base_uri": "https://localhost:8080/"
        },
        "id": "4MxIUmQ9ZX9w",
        "outputId": "d8386fcf-179b-4d7c-b040-16e0a03bd704"
      },
      "execution_count": 32,
      "outputs": [
        {
          "output_type": "stream",
          "name": "stdout",
          "text": [
            "enter a characte z\n",
            "This character is Consonant\n"
          ]
        }
      ]
    },
    {
      "cell_type": "code",
      "source": [
        "## check the vowel or consonant\n",
        "char=input(\"enter a characte \")\n",
        "if char=='a' or char=='e' or char=='i' or char=='o'or char=='u':\n",
        "  print('This charcter is vowel')\n",
        "else:\n",
        "  print('This character is Consonant')"
      ],
      "metadata": {
        "colab": {
          "base_uri": "https://localhost:8080/"
        },
        "id": "eaKpfohEaB1X",
        "outputId": "088cf6e2-36fd-423b-bf14-045077edd2cb"
      },
      "execution_count": 33,
      "outputs": [
        {
          "output_type": "stream",
          "name": "stdout",
          "text": [
            "enter a characte i\n",
            "This charcter is vowel\n"
          ]
        }
      ]
    },
    {
      "cell_type": "code",
      "source": [],
      "metadata": {
        "id": "mzmDNYeqaPx7"
      },
      "execution_count": null,
      "outputs": []
    }
  ]
}