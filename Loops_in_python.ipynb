{
  "nbformat": 4,
  "nbformat_minor": 0,
  "metadata": {
    "colab": {
      "provenance": []
    },
    "kernelspec": {
      "name": "python3",
      "display_name": "Python 3"
    },
    "language_info": {
      "name": "python"
    }
  },
  "cells": [
    {
      "cell_type": "code",
      "source": [
        "# loops-repetation of task or short line of code"
      ],
      "metadata": {
        "id": "e0x1H6PUdnhs"
      },
      "execution_count": 1,
      "outputs": []
    },
    {
      "cell_type": "code",
      "source": [
        "str1='raghav'\n",
        "for i in str1:\n",
        "  print(i)"
      ],
      "metadata": {
        "colab": {
          "base_uri": "https://localhost:8080/"
        },
        "id": "JhqEN45Hd57M",
        "outputId": "3480abf8-e830-48e6-e57d-f15bd2b63f09"
      },
      "execution_count": 2,
      "outputs": [
        {
          "output_type": "stream",
          "name": "stdout",
          "text": [
            "r\n",
            "a\n",
            "g\n",
            "h\n",
            "a\n",
            "v\n"
          ]
        }
      ]
    },
    {
      "cell_type": "code",
      "source": [
        "[i.upper() for i in str1] ## list comperihension"
      ],
      "metadata": {
        "colab": {
          "base_uri": "https://localhost:8080/"
        },
        "id": "RxIqrmyQehuD",
        "outputId": "5d376e95-e433-4b2a-9f0e-65af2fec97b3"
      },
      "execution_count": 4,
      "outputs": [
        {
          "output_type": "execute_result",
          "data": {
            "text/plain": [
              "['R', 'A', 'G', 'H', 'A', 'V']"
            ]
          },
          "metadata": {},
          "execution_count": 4
        }
      ]
    },
    {
      "cell_type": "code",
      "source": [
        "list1=[1,2,3,4,5,6,7,8]\n",
        "[num for num in list1 if num%2==0]"
      ],
      "metadata": {
        "colab": {
          "base_uri": "https://localhost:8080/"
        },
        "id": "UDwpQ_8Senp3",
        "outputId": "705adee8-e6ed-4e59-d223-371931849c45"
      },
      "execution_count": 9,
      "outputs": [
        {
          "output_type": "execute_result",
          "data": {
            "text/plain": [
              "[2, 4, 6, 8]"
            ]
          },
          "metadata": {},
          "execution_count": 9
        }
      ]
    },
    {
      "cell_type": "code",
      "source": [
        "list1=[1,2,3,4,5,6,7,8]\n",
        "[num for num in list1 if num%2!=0]"
      ],
      "metadata": {
        "colab": {
          "base_uri": "https://localhost:8080/"
        },
        "id": "fshbv0oefivi",
        "outputId": "f6f81112-2864-4707-fbec-348a2bc0d100"
      },
      "execution_count": 10,
      "outputs": [
        {
          "output_type": "execute_result",
          "data": {
            "text/plain": [
              "[1, 3, 5, 7]"
            ]
          },
          "metadata": {},
          "execution_count": 10
        }
      ]
    },
    {
      "cell_type": "code",
      "source": [
        "## print the factorial\n",
        "\n",
        "num=int(input(\"enter a number\"))\n",
        "fact=1\n",
        "while(num>0):\n",
        "  fact=fact*num\n",
        "  num-=1\n",
        "\n",
        "print(fact)"
      ],
      "metadata": {
        "colab": {
          "base_uri": "https://localhost:8080/"
        },
        "id": "r8v4q_Lqf0oY",
        "outputId": "bf3d1e93-2e76-4e8e-d398-51fe7f3878c9"
      },
      "execution_count": 15,
      "outputs": [
        {
          "output_type": "stream",
          "name": "stdout",
          "text": [
            "enter a number5\n",
            "120\n"
          ]
        }
      ]
    },
    {
      "cell_type": "code",
      "source": [
        "## check the number is pelidrome\n",
        "num=int(input(\"Enter a number\"))\n",
        "temp=num\n",
        "rev=0\n",
        "while(num>0):\n",
        "  digit=num%10\n",
        "  rev=rev*10+digit\n",
        "  num=num//10\n",
        "\n",
        "\n",
        "if temp==rev:\n",
        "  print(\"number is pelidrome\")\n",
        "else:\n",
        "  print(\"number is not pelidrome\")"
      ],
      "metadata": {
        "colab": {
          "base_uri": "https://localhost:8080/"
        },
        "id": "gp-yQlvAhBv5",
        "outputId": "3ee29a2f-eda7-427e-b18c-390144bcdb84"
      },
      "execution_count": 22,
      "outputs": [
        {
          "output_type": "stream",
          "name": "stdout",
          "text": [
            "Enter a number121\n",
            "number is pelidrome\n"
          ]
        }
      ]
    },
    {
      "cell_type": "code",
      "source": [
        "## summestion of the all values given list\n",
        "list1=[1,2,3,4,5,6,7,8]\n",
        "sum=0\n",
        "for i in list1:\n",
        "  sum=sum+i\n",
        "\n",
        "print(sum)"
      ],
      "metadata": {
        "colab": {
          "base_uri": "https://localhost:8080/"
        },
        "id": "Mamduyghi7hE",
        "outputId": "16e57726-752e-428d-b314-d80543888151"
      },
      "execution_count": 23,
      "outputs": [
        {
          "output_type": "stream",
          "name": "stdout",
          "text": [
            "36\n"
          ]
        }
      ]
    },
    {
      "cell_type": "code",
      "source": [
        "## for-else loop\n",
        "str1='raghav'\n",
        "for i in str1:\n",
        "  print(i)\n",
        "else:\n",
        "  print('loop excuted sucessfully')"
      ],
      "metadata": {
        "colab": {
          "base_uri": "https://localhost:8080/"
        },
        "id": "Zok7x5Ebj3Qs",
        "outputId": "034fed8a-afb2-44df-e1dc-aa2dce0e017e"
      },
      "execution_count": 28,
      "outputs": [
        {
          "output_type": "stream",
          "name": "stdout",
          "text": [
            "r\n",
            "a\n",
            "g\n",
            "h\n",
            "a\n",
            "v\n",
            "loop excuted sucessfully\n"
          ]
        }
      ]
    },
    {
      "cell_type": "code",
      "source": [
        "for i in list1:\n",
        "  if i==6:\n",
        "    break\n",
        "\n",
        "  else:\n",
        "    print('loop excuted',i)\n"
      ],
      "metadata": {
        "colab": {
          "base_uri": "https://localhost:8080/"
        },
        "id": "zaCACY8JkB1-",
        "outputId": "a2ff0d24-2583-43f9-f8f4-8e60c8c6e703"
      },
      "execution_count": 32,
      "outputs": [
        {
          "output_type": "stream",
          "name": "stdout",
          "text": [
            "loop excuted 1\n",
            "loop excuted 2\n",
            "loop excuted 3\n",
            "loop excuted 4\n",
            "loop excuted 5\n"
          ]
        }
      ]
    },
    {
      "cell_type": "code",
      "source": [
        "## reverse list using loop--two pointer approach\n",
        "list2=[2,5,8,12,17]\n",
        "low=0\n",
        "high=len(list2)-1\n",
        "while low<high:\n",
        "  list2[low],list2[high]=list2[high],list2[low]\n",
        "  low=low+1\n",
        "  high=high-1\n",
        "\n",
        "print(list2)"
      ],
      "metadata": {
        "colab": {
          "base_uri": "https://localhost:8080/"
        },
        "id": "quM1NUVukrC7",
        "outputId": "3292a106-ec1a-4080-d4e5-3a772de9e8c0"
      },
      "execution_count": 38,
      "outputs": [
        {
          "output_type": "stream",
          "name": "stdout",
          "text": [
            "[17, 12, 8, 5, 2]\n"
          ]
        }
      ]
    },
    {
      "cell_type": "code",
      "source": [
        "len(list2)"
      ],
      "metadata": {
        "colab": {
          "base_uri": "https://localhost:8080/"
        },
        "id": "BKVL-RN2lYBi",
        "outputId": "8ec309f7-5452-4ac8-f90e-1142bdf4c1cb"
      },
      "execution_count": 39,
      "outputs": [
        {
          "output_type": "execute_result",
          "data": {
            "text/plain": [
              "5"
            ]
          },
          "metadata": {},
          "execution_count": 39
        }
      ]
    },
    {
      "cell_type": "code",
      "source": [
        "num=int(input(\"Enter a number\"))\n",
        "if(num>1):\n",
        "  for i in range(2,num):\n",
        "    if num%i==0:\n",
        "      print(num,'number is not a prime')\n",
        "      break\n",
        "  else:\n",
        "    print(num,'number is a prime')\n",
        ""
      ],
      "metadata": {
        "colab": {
          "base_uri": "https://localhost:8080/"
        },
        "id": "daopYQ67oq4z",
        "outputId": "6a9f655d-18f7-434e-e402-dfda53af8da3"
      },
      "execution_count": 49,
      "outputs": [
        {
          "output_type": "stream",
          "name": "stdout",
          "text": [
            "Enter a number4\n",
            "4 number is not a prime\n"
          ]
        }
      ]
    },
    {
      "cell_type": "code",
      "source": [
        "num=int(input(\"Enter a number\"))\n",
        "if(num>1):\n",
        "  for i in range(2,num):\n",
        "    if num%i==0:\n",
        "      print(num,'number is not a prime')\n",
        "      break\n",
        "  else:\n",
        "    print(num,'number is a prime')\n",
        ""
      ],
      "metadata": {
        "colab": {
          "base_uri": "https://localhost:8080/"
        },
        "id": "zK4iWu2KqEQJ",
        "outputId": "881ce960-d856-4106-8a28-8fe265d58377"
      },
      "execution_count": 50,
      "outputs": [
        {
          "output_type": "stream",
          "name": "stdout",
          "text": [
            "Enter a number2\n",
            "2 number is a prime\n"
          ]
        }
      ]
    },
    {
      "cell_type": "code",
      "source": [
        "num=int(input(\"Enter a number\"))\n",
        "if(num>1):\n",
        "  for i in range(2,num):\n",
        "    if num%i==0:\n",
        "      print(num,'number is not a prime')\n",
        "      break\n",
        "  else:\n",
        "    print(num,'number is a prime')\n",
        ""
      ],
      "metadata": {
        "colab": {
          "base_uri": "https://localhost:8080/"
        },
        "id": "cX8U3jmVrUmI",
        "outputId": "c7cee5db-7cb3-4400-ba4f-623fe5cfd086"
      },
      "execution_count": 51,
      "outputs": [
        {
          "output_type": "stream",
          "name": "stdout",
          "text": [
            "Enter a number7\n",
            "7 number is a prime\n"
          ]
        }
      ]
    },
    {
      "cell_type": "code",
      "source": [
        "num=int(input(\"Enter a number\"))\n",
        "if num==1:\n",
        "  print(num,\"not a prime number\")\n",
        "elif(num>1):\n",
        "  for i in range(2,num):\n",
        "    if num%i==0:\n",
        "      print(num,'number is not a prime')\n",
        "      break\n",
        "  else:\n",
        "    print(num,'number is a prime')\n",
        ""
      ],
      "metadata": {
        "colab": {
          "base_uri": "https://localhost:8080/"
        },
        "id": "WStaXEMsrWpG",
        "outputId": "059f5651-2c69-4b53-e5e7-023a647f1c5f"
      },
      "execution_count": 53,
      "outputs": [
        {
          "output_type": "stream",
          "name": "stdout",
          "text": [
            "Enter a number1\n",
            "1 not a prime number\n"
          ]
        }
      ]
    },
    {
      "cell_type": "code",
      "source": [],
      "metadata": {
        "id": "9nIRRvlIrYzm"
      },
      "execution_count": null,
      "outputs": []
    }
  ]
}