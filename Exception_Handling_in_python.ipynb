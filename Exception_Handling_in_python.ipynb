{
  "nbformat": 4,
  "nbformat_minor": 0,
  "metadata": {
    "colab": {
      "provenance": []
    },
    "kernelspec": {
      "name": "python3",
      "display_name": "Python 3"
    },
    "language_info": {
      "name": "python"
    }
  },
  "cells": [
    {
      "cell_type": "code",
      "execution_count": 1,
      "metadata": {
        "id": "SYHb8Dn9lXh-"
      },
      "outputs": [],
      "source": [
        "#Exception--error\n",
        "#1.syntax-error\n",
        "#2.runtime-error--error comes while excuting the code"
      ]
    },
    {
      "cell_type": "code",
      "source": [
        "a=6\n",
        "b=0\n",
        "c=a/b\n",
        "print(c)"
      ],
      "metadata": {
        "colab": {
          "base_uri": "https://localhost:8080/",
          "height": 233
        },
        "id": "DfUvr4-cne0z",
        "outputId": "2639fd04-5319-4707-a3af-bcb7689bb392"
      },
      "execution_count": 2,
      "outputs": [
        {
          "output_type": "error",
          "ename": "ZeroDivisionError",
          "evalue": "ignored",
          "traceback": [
            "\u001b[0;31m---------------------------------------------------------------------------\u001b[0m",
            "\u001b[0;31mZeroDivisionError\u001b[0m                         Traceback (most recent call last)",
            "\u001b[0;32m<ipython-input-2-21121eeb0281>\u001b[0m in \u001b[0;36m<cell line: 3>\u001b[0;34m()\u001b[0m\n\u001b[1;32m      1\u001b[0m \u001b[0ma\u001b[0m\u001b[0;34m=\u001b[0m\u001b[0;36m6\u001b[0m\u001b[0;34m\u001b[0m\u001b[0;34m\u001b[0m\u001b[0m\n\u001b[1;32m      2\u001b[0m \u001b[0mb\u001b[0m\u001b[0;34m=\u001b[0m\u001b[0;36m0\u001b[0m\u001b[0;34m\u001b[0m\u001b[0;34m\u001b[0m\u001b[0m\n\u001b[0;32m----> 3\u001b[0;31m \u001b[0mc\u001b[0m\u001b[0;34m=\u001b[0m\u001b[0ma\u001b[0m\u001b[0;34m/\u001b[0m\u001b[0mb\u001b[0m\u001b[0;34m\u001b[0m\u001b[0;34m\u001b[0m\u001b[0m\n\u001b[0m\u001b[1;32m      4\u001b[0m \u001b[0mprint\u001b[0m\u001b[0;34m(\u001b[0m\u001b[0mc\u001b[0m\u001b[0;34m)\u001b[0m\u001b[0;34m\u001b[0m\u001b[0;34m\u001b[0m\u001b[0m\n",
            "\u001b[0;31mZeroDivisionError\u001b[0m: division by zero"
          ]
        }
      ]
    },
    {
      "cell_type": "code",
      "source": [
        "a=6\n",
        "b=0\n",
        "c=a/b\n",
        "print(c)\n",
        "print('hello world')"
      ],
      "metadata": {
        "colab": {
          "base_uri": "https://localhost:8080/",
          "height": 251
        },
        "id": "FYDZtj3Ynw53",
        "outputId": "1d84dd81-a127-4e25-fcd2-c7c08d2ed050"
      },
      "execution_count": 3,
      "outputs": [
        {
          "output_type": "error",
          "ename": "ZeroDivisionError",
          "evalue": "ignored",
          "traceback": [
            "\u001b[0;31m---------------------------------------------------------------------------\u001b[0m",
            "\u001b[0;31mZeroDivisionError\u001b[0m                         Traceback (most recent call last)",
            "\u001b[0;32m<ipython-input-3-1fc84fff33b7>\u001b[0m in \u001b[0;36m<cell line: 3>\u001b[0;34m()\u001b[0m\n\u001b[1;32m      1\u001b[0m \u001b[0ma\u001b[0m\u001b[0;34m=\u001b[0m\u001b[0;36m6\u001b[0m\u001b[0;34m\u001b[0m\u001b[0;34m\u001b[0m\u001b[0m\n\u001b[1;32m      2\u001b[0m \u001b[0mb\u001b[0m\u001b[0;34m=\u001b[0m\u001b[0;36m0\u001b[0m\u001b[0;34m\u001b[0m\u001b[0;34m\u001b[0m\u001b[0m\n\u001b[0;32m----> 3\u001b[0;31m \u001b[0mc\u001b[0m\u001b[0;34m=\u001b[0m\u001b[0ma\u001b[0m\u001b[0;34m/\u001b[0m\u001b[0mb\u001b[0m\u001b[0;34m\u001b[0m\u001b[0;34m\u001b[0m\u001b[0m\n\u001b[0m\u001b[1;32m      4\u001b[0m \u001b[0mprint\u001b[0m\u001b[0;34m(\u001b[0m\u001b[0mc\u001b[0m\u001b[0;34m)\u001b[0m\u001b[0;34m\u001b[0m\u001b[0;34m\u001b[0m\u001b[0m\n\u001b[1;32m      5\u001b[0m \u001b[0mprint\u001b[0m\u001b[0;34m(\u001b[0m\u001b[0;34m'hello world'\u001b[0m\u001b[0;34m)\u001b[0m\u001b[0;34m\u001b[0m\u001b[0;34m\u001b[0m\u001b[0m\n",
            "\u001b[0;31mZeroDivisionError\u001b[0m: division by zero"
          ]
        }
      ]
    },
    {
      "cell_type": "code",
      "source": [
        "try:\n",
        "  a=int(input(\"Enter a number 1 \"))\n",
        "  b=int(input(\"Enter a number 2 \"))\n",
        "  c=a//b\n",
        "except:\n",
        "  pass\n",
        "print('hello world')"
      ],
      "metadata": {
        "colab": {
          "base_uri": "https://localhost:8080/"
        },
        "id": "Sw2z7nnbpIgg",
        "outputId": "83132e07-c222-4baa-f64b-e348f729cb06"
      },
      "execution_count": 4,
      "outputs": [
        {
          "output_type": "stream",
          "name": "stdout",
          "text": [
            "Enter a number 1 6\n",
            "Enter a number 2 0\n",
            "hello world\n"
          ]
        }
      ]
    },
    {
      "cell_type": "code",
      "source": [
        "try:\n",
        "  a=int(input(\"Enter a number 1 \"))\n",
        "  b=int(input(\"Enter a number 2 \"))\n",
        "  c=a//b\n",
        "except Exception as e:\n",
        "  print(e)\n",
        "print('hello world')"
      ],
      "metadata": {
        "colab": {
          "base_uri": "https://localhost:8080/"
        },
        "id": "x1jZPUdWwvzd",
        "outputId": "5e57d111-21e2-4a93-9681-ab8ced4a3552"
      },
      "execution_count": 5,
      "outputs": [
        {
          "output_type": "stream",
          "name": "stdout",
          "text": [
            "Enter a number 1 6\n",
            "Enter a number 2 0\n",
            "integer division or modulo by zero\n",
            "hello world\n"
          ]
        }
      ]
    },
    {
      "cell_type": "code",
      "source": [
        "try:\n",
        "  a=int(input(\"Enter a number 1 \"))\n",
        "  b=int(input(\"Enter a number 2 \"))\n",
        "  c=a//b\n",
        "except Exception as e:\n",
        "  print(e)\n",
        "print('hello world')"
      ],
      "metadata": {
        "colab": {
          "base_uri": "https://localhost:8080/"
        },
        "id": "JNLk-AQwx2Rp",
        "outputId": "ebcaeff4-d518-4986-b8a5-2239ca380ac2"
      },
      "execution_count": 6,
      "outputs": [
        {
          "output_type": "stream",
          "name": "stdout",
          "text": [
            "Enter a number 1 raghav\n",
            "invalid literal for int() with base 10: 'raghav'\n",
            "hello world\n"
          ]
        }
      ]
    },
    {
      "cell_type": "code",
      "source": [
        "try:\n",
        "  l1=[1,2,3,4,6]\n",
        "  l1[10]\n",
        "except Exception as e:\n",
        "  print(e)"
      ],
      "metadata": {
        "colab": {
          "base_uri": "https://localhost:8080/"
        },
        "id": "hnTx37ZGyE3S",
        "outputId": "c1aace8b-a3d5-4d9c-9ac0-d9507e0b9aba"
      },
      "execution_count": 7,
      "outputs": [
        {
          "output_type": "stream",
          "name": "stdout",
          "text": [
            "list index out of range\n"
          ]
        }
      ]
    },
    {
      "cell_type": "code",
      "source": [
        "try:\n",
        "  records={'name':'raghav','phono':9564789212,'mailid':'patel@gmail.com'}\n",
        "  records['age']\n",
        "except Exception as e:\n",
        "  print(e)"
      ],
      "metadata": {
        "colab": {
          "base_uri": "https://localhost:8080/"
        },
        "id": "F_67UTRwyidy",
        "outputId": "dc01107c-4000-422d-f3ee-ab03fe1f9f50"
      },
      "execution_count": 10,
      "outputs": [
        {
          "output_type": "stream",
          "name": "stdout",
          "text": [
            "'age'\n"
          ]
        }
      ]
    },
    {
      "cell_type": "code",
      "source": [
        "# approach:2\n",
        "try:\n",
        "  a=int(input(\"Enter a number 1 \"))\n",
        "  b=int(input(\"Enter a number 2 \"))\n",
        "  c=a/b\n",
        "except ZeroDivisionError as z:\n",
        "  print(z)\n",
        "\n",
        "except ValueError as v:\n",
        "  print(v)\n",
        "print('hello world')"
      ],
      "metadata": {
        "colab": {
          "base_uri": "https://localhost:8080/"
        },
        "id": "LiDL4wHxzbby",
        "outputId": "4a368403-1a61-40cd-9991-d78ee6906265"
      },
      "execution_count": 14,
      "outputs": [
        {
          "output_type": "stream",
          "name": "stdout",
          "text": [
            "Enter a number 1 6\n",
            "Enter a number 2 0\n",
            "division by zero\n",
            "hello world\n"
          ]
        }
      ]
    },
    {
      "cell_type": "code",
      "source": [
        "try:\n",
        "  a=int(input(\"Enter a number 1 \"))\n",
        "  b=int(input(\"Enter a number 2 \"))\n",
        "  c=a/b\n",
        "except Exception as e:\n",
        "  print(e)\n",
        "\n",
        "else:\n",
        "  print('It will excute only when your try block will excute Successfully')"
      ],
      "metadata": {
        "colab": {
          "base_uri": "https://localhost:8080/"
        },
        "id": "smR3LQkI0XE4",
        "outputId": "29eed4bc-f7c5-4c7d-c7f7-8740caf2a168"
      },
      "execution_count": 15,
      "outputs": [
        {
          "output_type": "stream",
          "name": "stdout",
          "text": [
            "Enter a number 1 6\n",
            "Enter a number 2 1\n",
            "It will excute only when your try block will excute Successfully\n"
          ]
        }
      ]
    },
    {
      "cell_type": "code",
      "source": [
        "## try-else block\n",
        "try:\n",
        "  a=int(input(\"Enter a number 1 \"))\n",
        "  b=int(input(\"Enter a number 2 \"))\n",
        "  c=a/b\n",
        "except Exception as e:\n",
        "  print(e)\n",
        "\n",
        "else:\n",
        "  print('It will excute only when your try block will excute Successfully')"
      ],
      "metadata": {
        "colab": {
          "base_uri": "https://localhost:8080/"
        },
        "id": "rsk14w-71OnA",
        "outputId": "e7fdc456-7424-439c-99ac-159ffc45686e"
      },
      "execution_count": 16,
      "outputs": [
        {
          "output_type": "stream",
          "name": "stdout",
          "text": [
            "Enter a number 1 6\n",
            "Enter a number 2 0\n",
            "division by zero\n"
          ]
        }
      ]
    },
    {
      "cell_type": "code",
      "source": [
        "## try-else -finally block\n",
        "try:\n",
        "  a=int(input(\"Enter a number 1 \"))\n",
        "  b=int(input(\"Enter a number 2 \"))\n",
        "  c=a/b\n",
        "except Exception as e:\n",
        "  print(e)\n",
        "\n",
        "else:\n",
        "  print('This block will excute only when your try block will excute Successfully')\n",
        "\n",
        "finally:\n",
        "  print('Finally Block always excute ')"
      ],
      "metadata": {
        "colab": {
          "base_uri": "https://localhost:8080/"
        },
        "id": "EKrVUbe21RQr",
        "outputId": "03bbb1cd-61d7-49c3-a183-7a8dc56552c4"
      },
      "execution_count": 19,
      "outputs": [
        {
          "output_type": "stream",
          "name": "stdout",
          "text": [
            "Enter a number 1 6\n",
            "Enter a number 2 1\n",
            "This block will excute only when your try block will excute Successfully\n",
            "Finally Block always excute \n"
          ]
        }
      ]
    },
    {
      "cell_type": "code",
      "source": [],
      "metadata": {
        "id": "Dh__yDjf3CPX"
      },
      "execution_count": null,
      "outputs": []
    }
  ]
}