{
  "nbformat": 4,
  "nbformat_minor": 0,
  "metadata": {
    "colab": {
      "provenance": []
    },
    "kernelspec": {
      "name": "python3",
      "display_name": "Python 3"
    },
    "language_info": {
      "name": "python"
    }
  },
  "cells": [
    {
      "cell_type": "code",
      "execution_count": null,
      "metadata": {
        "id": "VxYQHHkr9rxr"
      },
      "outputs": [],
      "source": [
        "# lambda function--annonymus function\n",
        "# not defind function name def keyword,single line of code"
      ]
    },
    {
      "cell_type": "code",
      "source": [
        "## normal function\n",
        "def cube(x):\n",
        "  return x*x*x\n",
        "cube(3)"
      ],
      "metadata": {
        "colab": {
          "base_uri": "https://localhost:8080/"
        },
        "id": "ae8gT_QW-teQ",
        "outputId": "9c5d92d2-4d7f-44fa-afc4-0552604ebfe8"
      },
      "execution_count": null,
      "outputs": [
        {
          "output_type": "execute_result",
          "data": {
            "text/plain": [
              "27"
            ]
          },
          "metadata": {},
          "execution_count": 2
        }
      ]
    },
    {
      "cell_type": "code",
      "source": [
        "## lambda function\n",
        "lambda_cube=lambda x:x*x*x\n",
        "lambda_cube(3)"
      ],
      "metadata": {
        "colab": {
          "base_uri": "https://localhost:8080/"
        },
        "id": "xMQKz5LR-z9H",
        "outputId": "69d8a46b-b357-4d2a-a8cd-c4125608e76f"
      },
      "execution_count": null,
      "outputs": [
        {
          "output_type": "execute_result",
          "data": {
            "text/plain": [
              "27"
            ]
          },
          "metadata": {},
          "execution_count": 3
        }
      ]
    },
    {
      "cell_type": "code",
      "source": [
        "## add two numbers\n",
        "sum_two_num=lambda x,y:x+y\n",
        "sum_two_num(5,3)"
      ],
      "metadata": {
        "colab": {
          "base_uri": "https://localhost:8080/"
        },
        "id": "ZKpX3tc9_LHG",
        "outputId": "d37fb092-1510-40da-da72-782f2b649462"
      },
      "execution_count": null,
      "outputs": [
        {
          "output_type": "execute_result",
          "data": {
            "text/plain": [
              "8"
            ]
          },
          "metadata": {},
          "execution_count": 4
        }
      ]
    },
    {
      "cell_type": "code",
      "source": [
        "employee_records=[{'name':'raghav','age':18,'occupation':'Engineer'},\n",
        "                  {'name':'sagar','age':21,'occupation':'Mechinical Engineear'},\n",
        "                  {'name':'Bhavik','age':26,'occupation':'Bussignessman'},\n",
        "                  {'name':'Radhu','age':15,'occupation':'Agriculture'}]"
      ],
      "metadata": {
        "id": "Cyx7gr1q_dCs"
      },
      "execution_count": null,
      "outputs": []
    },
    {
      "cell_type": "code",
      "source": [
        "sorted(employee_records,key=lambda x:x['age'])"
      ],
      "metadata": {
        "colab": {
          "base_uri": "https://localhost:8080/"
        },
        "id": "2nfyAtdWBD2V",
        "outputId": "0ae1e48f-30c1-4717-ffff-63db5936480f"
      },
      "execution_count": null,
      "outputs": [
        {
          "output_type": "execute_result",
          "data": {
            "text/plain": [
              "[{'name': 'Radhu', 'age': 15, 'occupation': 'Agriculture'},\n",
              " {'name': 'raghav', 'age': 18, 'occupation': 'Engineer'},\n",
              " {'name': 'sagar', 'age': 21, 'occupation': 'Mechinical Engineear'},\n",
              " {'name': 'Bhavik', 'age': 26, 'occupation': 'Bussignessman'}]"
            ]
          },
          "metadata": {},
          "execution_count": 8
        }
      ]
    },
    {
      "cell_type": "code",
      "source": [
        "employee_records[0]['name']"
      ],
      "metadata": {
        "colab": {
          "base_uri": "https://localhost:8080/",
          "height": 36
        },
        "id": "cO_xZMZCBVpk",
        "outputId": "db2302c3-fd2c-4725-919d-9fd525f51dab"
      },
      "execution_count": null,
      "outputs": [
        {
          "output_type": "execute_result",
          "data": {
            "text/plain": [
              "'raghav'"
            ],
            "application/vnd.google.colaboratory.intrinsic+json": {
              "type": "string"
            }
          },
          "metadata": {},
          "execution_count": 12
        }
      ]
    },
    {
      "cell_type": "code",
      "source": [
        "## normal function\n",
        "l1=[2,4,6,7,9]\n",
        "l2=[]\n",
        "for i in l1:\n",
        "  l2.append(i**2)\n",
        "print(l2)"
      ],
      "metadata": {
        "colab": {
          "base_uri": "https://localhost:8080/"
        },
        "id": "cAii_zxPBrk0",
        "outputId": "41059538-404d-46de-875a-42ad4f31e0f3"
      },
      "execution_count": null,
      "outputs": [
        {
          "output_type": "stream",
          "name": "stdout",
          "text": [
            "[4, 16, 36, 49, 81]\n"
          ]
        }
      ]
    },
    {
      "cell_type": "code",
      "source": [
        "## map function\n",
        "list(map(lambda l1:l1**2,l1))"
      ],
      "metadata": {
        "colab": {
          "base_uri": "https://localhost:8080/"
        },
        "id": "lXpno49vDT1l",
        "outputId": "b31f5e67-badd-4951-d2f3-2804cbffb713"
      },
      "execution_count": null,
      "outputs": [
        {
          "output_type": "execute_result",
          "data": {
            "text/plain": [
              "[4, 16, 36, 49, 81]"
            ]
          },
          "metadata": {},
          "execution_count": 14
        }
      ]
    },
    {
      "cell_type": "code",
      "source": [
        "l1=[1,2,3,4,7]\n",
        "l2=[1,2,3,4,7]\n",
        "list(map(lambda l1,l2:l2==l1,l1,l2))"
      ],
      "metadata": {
        "colab": {
          "base_uri": "https://localhost:8080/"
        },
        "id": "gdrDNhMkD5qn",
        "outputId": "fc65cb55-fdb2-43e4-b1fd-76d6e3ad35fb"
      },
      "execution_count": null,
      "outputs": [
        {
          "output_type": "execute_result",
          "data": {
            "text/plain": [
              "[True, True, True, True, True]"
            ]
          },
          "metadata": {},
          "execution_count": 20
        }
      ]
    },
    {
      "cell_type": "code",
      "source": [
        "## filter function:--subset of the given list by having some sort of constraints\n",
        "#given a list return even elements available in list"
      ],
      "metadata": {
        "id": "iIOknsneFq19"
      },
      "execution_count": 1,
      "outputs": []
    },
    {
      "cell_type": "code",
      "source": [
        "list2=[2,3,5,7,9,11,16]\n",
        "list3=list(filter(lambda x:x%2==0,list2))\n",
        "print(list3)"
      ],
      "metadata": {
        "colab": {
          "base_uri": "https://localhost:8080/"
        },
        "id": "O_KBRWqKiCvX",
        "outputId": "779055d8-034d-400c-d1a3-27d4137e8ad2"
      },
      "execution_count": 2,
      "outputs": [
        {
          "output_type": "stream",
          "name": "stdout",
          "text": [
            "[2, 16]\n"
          ]
        }
      ]
    },
    {
      "cell_type": "code",
      "source": [
        "# reduce function:single output\n",
        "##return the sum of the entire list"
      ],
      "metadata": {
        "id": "3SOHpcZlihV5"
      },
      "execution_count": 3,
      "outputs": []
    },
    {
      "cell_type": "code",
      "source": [
        "from functools import reduce\n",
        "sum_list=reduce(lambda x,y:x+y,list2)\n",
        "print(sum_list)"
      ],
      "metadata": {
        "colab": {
          "base_uri": "https://localhost:8080/"
        },
        "id": "5jZNfzZzjIPX",
        "outputId": "b6566863-d491-4f05-fa44-934bca33cf5f"
      },
      "execution_count": 5,
      "outputs": [
        {
          "output_type": "stream",
          "name": "stdout",
          "text": [
            "53\n"
          ]
        }
      ]
    },
    {
      "cell_type": "code",
      "source": [],
      "metadata": {
        "id": "g4uUxM2qjZhE"
      },
      "execution_count": null,
      "outputs": []
    }
  ]
}