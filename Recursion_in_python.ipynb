{
  "nbformat": 4,
  "nbformat_minor": 0,
  "metadata": {
    "colab": {
      "provenance": []
    },
    "kernelspec": {
      "name": "python3",
      "display_name": "Python 3"
    },
    "language_info": {
      "name": "python"
    }
  },
  "cells": [
    {
      "cell_type": "code",
      "execution_count": 1,
      "metadata": {
        "id": "CUcBQQhqvypO"
      },
      "outputs": [],
      "source": [
        "#Recursion-function call itself"
      ]
    },
    {
      "cell_type": "code",
      "source": [
        "## factorial number using recursion\n",
        "def factorial(n):\n",
        "  ## base case\n",
        "  if n<=1:\n",
        "    return 1\n",
        "  # recursive call\n",
        "  else:\n",
        "    return n*factorial(n-1)\n",
        "\n",
        "n=5\n",
        "factorial(n)"
      ],
      "metadata": {
        "colab": {
          "base_uri": "https://localhost:8080/"
        },
        "id": "Ct-w5BI3ygRC",
        "outputId": "c16a47ff-0f26-4d83-fe6c-b9be9f979b3b"
      },
      "execution_count": 3,
      "outputs": [
        {
          "output_type": "execute_result",
          "data": {
            "text/plain": [
              "120"
            ]
          },
          "metadata": {},
          "execution_count": 3
        }
      ]
    },
    {
      "cell_type": "code",
      "source": [
        "def fibonacci(n):\n",
        "  if n<=1:\n",
        "    return n\n",
        "  else:\n",
        "    return fibonacci(n-1)+fibonacci(n-2)\n",
        "## fibonacci\n",
        "n=7\n",
        "fibonacci(n)\n",
        "## time complexity=2^n --very huge time complexity\n",
        "## drawbacks of recurssion--not a optimal solution provide\n",
        "## to solve the iasu dynamic programing(DP)"
      ],
      "metadata": {
        "colab": {
          "base_uri": "https://localhost:8080/"
        },
        "id": "fI-BSc-Sy8cZ",
        "outputId": "a8c30e27-cab9-47f9-81f9-1bb56dd8c24d"
      },
      "execution_count": 5,
      "outputs": [
        {
          "output_type": "execute_result",
          "data": {
            "text/plain": [
              "13"
            ]
          },
          "metadata": {},
          "execution_count": 5
        }
      ]
    },
    {
      "cell_type": "code",
      "source": [
        "## sum of the digits\n",
        "def sum_of_digits(num):\n",
        "  if num<10:\n",
        "    return num\n",
        "  else:\n",
        "    return num%10 +sum_of_digits(num//10)\n",
        "num=1234\n",
        "sum_of_digits(num)"
      ],
      "metadata": {
        "colab": {
          "base_uri": "https://localhost:8080/"
        },
        "id": "2G8UGyWF2IjY",
        "outputId": "099837bf-c207-46c1-f51a-41eac3cba30e"
      },
      "execution_count": 8,
      "outputs": [
        {
          "output_type": "execute_result",
          "data": {
            "text/plain": [
              "10"
            ]
          },
          "metadata": {},
          "execution_count": 8
        }
      ]
    },
    {
      "cell_type": "code",
      "source": [],
      "metadata": {
        "id": "bfNHAHsG519T"
      },
      "execution_count": null,
      "outputs": []
    }
  ]
}